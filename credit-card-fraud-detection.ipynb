{
 "cells": [
  {
   "cell_type": "markdown",
   "id": "af3fb73f",
   "metadata": {
    "papermill": {
     "duration": 0.00743,
     "end_time": "2024-10-23T18:50:07.872123",
     "exception": false,
     "start_time": "2024-10-23T18:50:07.864693",
     "status": "completed"
    },
    "tags": []
   },
   "source": [
    "# Importing  The Dependencies"
   ]
  },
  {
   "cell_type": "code",
   "execution_count": 1,
   "id": "7822eb58",
   "metadata": {
    "execution": {
     "iopub.execute_input": "2024-10-23T18:50:07.887586Z",
     "iopub.status.busy": "2024-10-23T18:50:07.887168Z",
     "iopub.status.idle": "2024-10-23T18:50:10.485324Z",
     "shell.execute_reply": "2024-10-23T18:50:10.484369Z"
    },
    "papermill": {
     "duration": 2.608795,
     "end_time": "2024-10-23T18:50:10.487829",
     "exception": false,
     "start_time": "2024-10-23T18:50:07.879034",
     "status": "completed"
    },
    "tags": []
   },
   "outputs": [],
   "source": [
    "import pandas as pd \n",
    "import numpy as np\n",
    "from sklearn.model_selection import train_test_split\n",
    "from sklearn.linear_model import LogisticRegression\n",
    "from sklearn.metrics import accuracy_score"
   ]
  },
  {
   "cell_type": "code",
   "execution_count": 2,
   "id": "a94079e3",
   "metadata": {
    "execution": {
     "iopub.execute_input": "2024-10-23T18:50:10.503684Z",
     "iopub.status.busy": "2024-10-23T18:50:10.503134Z",
     "iopub.status.idle": "2024-10-23T18:50:14.421048Z",
     "shell.execute_reply": "2024-10-23T18:50:14.419925Z"
    },
    "papermill": {
     "duration": 3.928985,
     "end_time": "2024-10-23T18:50:14.423845",
     "exception": false,
     "start_time": "2024-10-23T18:50:10.494860",
     "status": "completed"
    },
    "tags": []
   },
   "outputs": [],
   "source": [
    "#  loading the dataset to a pandas DataFrame\n",
    "df = pd.read_csv(\"/kaggle/input/creditcardfraud/creditcard.csv\")"
   ]
  },
  {
   "cell_type": "code",
   "execution_count": 3,
   "id": "cd6f9ef7",
   "metadata": {
    "execution": {
     "iopub.execute_input": "2024-10-23T18:50:14.439661Z",
     "iopub.status.busy": "2024-10-23T18:50:14.439205Z",
     "iopub.status.idle": "2024-10-23T18:50:14.477187Z",
     "shell.execute_reply": "2024-10-23T18:50:14.476101Z"
    },
    "papermill": {
     "duration": 0.048839,
     "end_time": "2024-10-23T18:50:14.479635",
     "exception": false,
     "start_time": "2024-10-23T18:50:14.430796",
     "status": "completed"
    },
    "tags": []
   },
   "outputs": [
    {
     "data": {
      "text/html": [
       "<div>\n",
       "<style scoped>\n",
       "    .dataframe tbody tr th:only-of-type {\n",
       "        vertical-align: middle;\n",
       "    }\n",
       "\n",
       "    .dataframe tbody tr th {\n",
       "        vertical-align: top;\n",
       "    }\n",
       "\n",
       "    .dataframe thead th {\n",
       "        text-align: right;\n",
       "    }\n",
       "</style>\n",
       "<table border=\"1\" class=\"dataframe\">\n",
       "  <thead>\n",
       "    <tr style=\"text-align: right;\">\n",
       "      <th></th>\n",
       "      <th>Time</th>\n",
       "      <th>V1</th>\n",
       "      <th>V2</th>\n",
       "      <th>V3</th>\n",
       "      <th>V4</th>\n",
       "      <th>V5</th>\n",
       "      <th>V6</th>\n",
       "      <th>V7</th>\n",
       "      <th>V8</th>\n",
       "      <th>V9</th>\n",
       "      <th>...</th>\n",
       "      <th>V21</th>\n",
       "      <th>V22</th>\n",
       "      <th>V23</th>\n",
       "      <th>V24</th>\n",
       "      <th>V25</th>\n",
       "      <th>V26</th>\n",
       "      <th>V27</th>\n",
       "      <th>V28</th>\n",
       "      <th>Amount</th>\n",
       "      <th>Class</th>\n",
       "    </tr>\n",
       "  </thead>\n",
       "  <tbody>\n",
       "    <tr>\n",
       "      <th>0</th>\n",
       "      <td>0.0</td>\n",
       "      <td>-1.359807</td>\n",
       "      <td>-0.072781</td>\n",
       "      <td>2.536347</td>\n",
       "      <td>1.378155</td>\n",
       "      <td>-0.338321</td>\n",
       "      <td>0.462388</td>\n",
       "      <td>0.239599</td>\n",
       "      <td>0.098698</td>\n",
       "      <td>0.363787</td>\n",
       "      <td>...</td>\n",
       "      <td>-0.018307</td>\n",
       "      <td>0.277838</td>\n",
       "      <td>-0.110474</td>\n",
       "      <td>0.066928</td>\n",
       "      <td>0.128539</td>\n",
       "      <td>-0.189115</td>\n",
       "      <td>0.133558</td>\n",
       "      <td>-0.021053</td>\n",
       "      <td>149.62</td>\n",
       "      <td>0</td>\n",
       "    </tr>\n",
       "    <tr>\n",
       "      <th>1</th>\n",
       "      <td>0.0</td>\n",
       "      <td>1.191857</td>\n",
       "      <td>0.266151</td>\n",
       "      <td>0.166480</td>\n",
       "      <td>0.448154</td>\n",
       "      <td>0.060018</td>\n",
       "      <td>-0.082361</td>\n",
       "      <td>-0.078803</td>\n",
       "      <td>0.085102</td>\n",
       "      <td>-0.255425</td>\n",
       "      <td>...</td>\n",
       "      <td>-0.225775</td>\n",
       "      <td>-0.638672</td>\n",
       "      <td>0.101288</td>\n",
       "      <td>-0.339846</td>\n",
       "      <td>0.167170</td>\n",
       "      <td>0.125895</td>\n",
       "      <td>-0.008983</td>\n",
       "      <td>0.014724</td>\n",
       "      <td>2.69</td>\n",
       "      <td>0</td>\n",
       "    </tr>\n",
       "    <tr>\n",
       "      <th>2</th>\n",
       "      <td>1.0</td>\n",
       "      <td>-1.358354</td>\n",
       "      <td>-1.340163</td>\n",
       "      <td>1.773209</td>\n",
       "      <td>0.379780</td>\n",
       "      <td>-0.503198</td>\n",
       "      <td>1.800499</td>\n",
       "      <td>0.791461</td>\n",
       "      <td>0.247676</td>\n",
       "      <td>-1.514654</td>\n",
       "      <td>...</td>\n",
       "      <td>0.247998</td>\n",
       "      <td>0.771679</td>\n",
       "      <td>0.909412</td>\n",
       "      <td>-0.689281</td>\n",
       "      <td>-0.327642</td>\n",
       "      <td>-0.139097</td>\n",
       "      <td>-0.055353</td>\n",
       "      <td>-0.059752</td>\n",
       "      <td>378.66</td>\n",
       "      <td>0</td>\n",
       "    </tr>\n",
       "    <tr>\n",
       "      <th>3</th>\n",
       "      <td>1.0</td>\n",
       "      <td>-0.966272</td>\n",
       "      <td>-0.185226</td>\n",
       "      <td>1.792993</td>\n",
       "      <td>-0.863291</td>\n",
       "      <td>-0.010309</td>\n",
       "      <td>1.247203</td>\n",
       "      <td>0.237609</td>\n",
       "      <td>0.377436</td>\n",
       "      <td>-1.387024</td>\n",
       "      <td>...</td>\n",
       "      <td>-0.108300</td>\n",
       "      <td>0.005274</td>\n",
       "      <td>-0.190321</td>\n",
       "      <td>-1.175575</td>\n",
       "      <td>0.647376</td>\n",
       "      <td>-0.221929</td>\n",
       "      <td>0.062723</td>\n",
       "      <td>0.061458</td>\n",
       "      <td>123.50</td>\n",
       "      <td>0</td>\n",
       "    </tr>\n",
       "    <tr>\n",
       "      <th>4</th>\n",
       "      <td>2.0</td>\n",
       "      <td>-1.158233</td>\n",
       "      <td>0.877737</td>\n",
       "      <td>1.548718</td>\n",
       "      <td>0.403034</td>\n",
       "      <td>-0.407193</td>\n",
       "      <td>0.095921</td>\n",
       "      <td>0.592941</td>\n",
       "      <td>-0.270533</td>\n",
       "      <td>0.817739</td>\n",
       "      <td>...</td>\n",
       "      <td>-0.009431</td>\n",
       "      <td>0.798278</td>\n",
       "      <td>-0.137458</td>\n",
       "      <td>0.141267</td>\n",
       "      <td>-0.206010</td>\n",
       "      <td>0.502292</td>\n",
       "      <td>0.219422</td>\n",
       "      <td>0.215153</td>\n",
       "      <td>69.99</td>\n",
       "      <td>0</td>\n",
       "    </tr>\n",
       "  </tbody>\n",
       "</table>\n",
       "<p>5 rows × 31 columns</p>\n",
       "</div>"
      ],
      "text/plain": [
       "   Time        V1        V2        V3        V4        V5        V6        V7  \\\n",
       "0   0.0 -1.359807 -0.072781  2.536347  1.378155 -0.338321  0.462388  0.239599   \n",
       "1   0.0  1.191857  0.266151  0.166480  0.448154  0.060018 -0.082361 -0.078803   \n",
       "2   1.0 -1.358354 -1.340163  1.773209  0.379780 -0.503198  1.800499  0.791461   \n",
       "3   1.0 -0.966272 -0.185226  1.792993 -0.863291 -0.010309  1.247203  0.237609   \n",
       "4   2.0 -1.158233  0.877737  1.548718  0.403034 -0.407193  0.095921  0.592941   \n",
       "\n",
       "         V8        V9  ...       V21       V22       V23       V24       V25  \\\n",
       "0  0.098698  0.363787  ... -0.018307  0.277838 -0.110474  0.066928  0.128539   \n",
       "1  0.085102 -0.255425  ... -0.225775 -0.638672  0.101288 -0.339846  0.167170   \n",
       "2  0.247676 -1.514654  ...  0.247998  0.771679  0.909412 -0.689281 -0.327642   \n",
       "3  0.377436 -1.387024  ... -0.108300  0.005274 -0.190321 -1.175575  0.647376   \n",
       "4 -0.270533  0.817739  ... -0.009431  0.798278 -0.137458  0.141267 -0.206010   \n",
       "\n",
       "        V26       V27       V28  Amount  Class  \n",
       "0 -0.189115  0.133558 -0.021053  149.62      0  \n",
       "1  0.125895 -0.008983  0.014724    2.69      0  \n",
       "2 -0.139097 -0.055353 -0.059752  378.66      0  \n",
       "3 -0.221929  0.062723  0.061458  123.50      0  \n",
       "4  0.502292  0.219422  0.215153   69.99      0  \n",
       "\n",
       "[5 rows x 31 columns]"
      ]
     },
     "execution_count": 3,
     "metadata": {},
     "output_type": "execute_result"
    }
   ],
   "source": [
    "df.head()"
   ]
  },
  {
   "cell_type": "code",
   "execution_count": 4,
   "id": "bc87e48b",
   "metadata": {
    "execution": {
     "iopub.execute_input": "2024-10-23T18:50:14.496683Z",
     "iopub.status.busy": "2024-10-23T18:50:14.496113Z",
     "iopub.status.idle": "2024-10-23T18:50:14.503749Z",
     "shell.execute_reply": "2024-10-23T18:50:14.502396Z"
    },
    "papermill": {
     "duration": 0.018427,
     "end_time": "2024-10-23T18:50:14.506218",
     "exception": false,
     "start_time": "2024-10-23T18:50:14.487791",
     "status": "completed"
    },
    "tags": []
   },
   "outputs": [
    {
     "data": {
      "text/plain": [
       "(284807, 31)"
      ]
     },
     "execution_count": 4,
     "metadata": {},
     "output_type": "execute_result"
    }
   ],
   "source": [
    "df.shape"
   ]
  },
  {
   "cell_type": "code",
   "execution_count": 5,
   "id": "707a43fc",
   "metadata": {
    "execution": {
     "iopub.execute_input": "2024-10-23T18:50:14.522474Z",
     "iopub.status.busy": "2024-10-23T18:50:14.522057Z",
     "iopub.status.idle": "2024-10-23T18:50:14.566694Z",
     "shell.execute_reply": "2024-10-23T18:50:14.565600Z"
    },
    "papermill": {
     "duration": 0.055666,
     "end_time": "2024-10-23T18:50:14.569210",
     "exception": false,
     "start_time": "2024-10-23T18:50:14.513544",
     "status": "completed"
    },
    "tags": []
   },
   "outputs": [
    {
     "name": "stdout",
     "output_type": "stream",
     "text": [
      "<class 'pandas.core.frame.DataFrame'>\n",
      "RangeIndex: 284807 entries, 0 to 284806\n",
      "Data columns (total 31 columns):\n",
      " #   Column  Non-Null Count   Dtype  \n",
      "---  ------  --------------   -----  \n",
      " 0   Time    284807 non-null  float64\n",
      " 1   V1      284807 non-null  float64\n",
      " 2   V2      284807 non-null  float64\n",
      " 3   V3      284807 non-null  float64\n",
      " 4   V4      284807 non-null  float64\n",
      " 5   V5      284807 non-null  float64\n",
      " 6   V6      284807 non-null  float64\n",
      " 7   V7      284807 non-null  float64\n",
      " 8   V8      284807 non-null  float64\n",
      " 9   V9      284807 non-null  float64\n",
      " 10  V10     284807 non-null  float64\n",
      " 11  V11     284807 non-null  float64\n",
      " 12  V12     284807 non-null  float64\n",
      " 13  V13     284807 non-null  float64\n",
      " 14  V14     284807 non-null  float64\n",
      " 15  V15     284807 non-null  float64\n",
      " 16  V16     284807 non-null  float64\n",
      " 17  V17     284807 non-null  float64\n",
      " 18  V18     284807 non-null  float64\n",
      " 19  V19     284807 non-null  float64\n",
      " 20  V20     284807 non-null  float64\n",
      " 21  V21     284807 non-null  float64\n",
      " 22  V22     284807 non-null  float64\n",
      " 23  V23     284807 non-null  float64\n",
      " 24  V24     284807 non-null  float64\n",
      " 25  V25     284807 non-null  float64\n",
      " 26  V26     284807 non-null  float64\n",
      " 27  V27     284807 non-null  float64\n",
      " 28  V28     284807 non-null  float64\n",
      " 29  Amount  284807 non-null  float64\n",
      " 30  Class   284807 non-null  int64  \n",
      "dtypes: float64(30), int64(1)\n",
      "memory usage: 67.4 MB\n"
     ]
    }
   ],
   "source": [
    "# dataset informations\n",
    "df.info()"
   ]
  },
  {
   "cell_type": "code",
   "execution_count": 6,
   "id": "22e2962a",
   "metadata": {
    "execution": {
     "iopub.execute_input": "2024-10-23T18:50:14.585919Z",
     "iopub.status.busy": "2024-10-23T18:50:14.585485Z",
     "iopub.status.idle": "2024-10-23T18:50:14.609562Z",
     "shell.execute_reply": "2024-10-23T18:50:14.608450Z"
    },
    "papermill": {
     "duration": 0.035211,
     "end_time": "2024-10-23T18:50:14.612001",
     "exception": false,
     "start_time": "2024-10-23T18:50:14.576790",
     "status": "completed"
    },
    "tags": []
   },
   "outputs": [
    {
     "data": {
      "text/plain": [
       "Time      0\n",
       "V1        0\n",
       "V2        0\n",
       "V3        0\n",
       "V4        0\n",
       "V5        0\n",
       "V6        0\n",
       "V7        0\n",
       "V8        0\n",
       "V9        0\n",
       "V10       0\n",
       "V11       0\n",
       "V12       0\n",
       "V13       0\n",
       "V14       0\n",
       "V15       0\n",
       "V16       0\n",
       "V17       0\n",
       "V18       0\n",
       "V19       0\n",
       "V20       0\n",
       "V21       0\n",
       "V22       0\n",
       "V23       0\n",
       "V24       0\n",
       "V25       0\n",
       "V26       0\n",
       "V27       0\n",
       "V28       0\n",
       "Amount    0\n",
       "Class     0\n",
       "dtype: int64"
      ]
     },
     "execution_count": 6,
     "metadata": {},
     "output_type": "execute_result"
    }
   ],
   "source": [
    "# checking  the number of  missing values in each column\n",
    "df.isnull().sum()"
   ]
  },
  {
   "cell_type": "code",
   "execution_count": 7,
   "id": "316cb67c",
   "metadata": {
    "execution": {
     "iopub.execute_input": "2024-10-23T18:50:14.629896Z",
     "iopub.status.busy": "2024-10-23T18:50:14.628449Z",
     "iopub.status.idle": "2024-10-23T18:50:14.641660Z",
     "shell.execute_reply": "2024-10-23T18:50:14.640538Z"
    },
    "papermill": {
     "duration": 0.024114,
     "end_time": "2024-10-23T18:50:14.643939",
     "exception": false,
     "start_time": "2024-10-23T18:50:14.619825",
     "status": "completed"
    },
    "tags": []
   },
   "outputs": [
    {
     "data": {
      "text/plain": [
       "Class\n",
       "0    284315\n",
       "1       492\n",
       "Name: count, dtype: int64"
      ]
     },
     "execution_count": 7,
     "metadata": {},
     "output_type": "execute_result"
    }
   ],
   "source": [
    "# distribution of legit transactions & fraudulent transactions\n",
    "df[\"Class\"].value_counts()"
   ]
  },
  {
   "cell_type": "markdown",
   "id": "3702393b",
   "metadata": {
    "papermill": {
     "duration": 0.007535,
     "end_time": "2024-10-23T18:50:14.659242",
     "exception": false,
     "start_time": "2024-10-23T18:50:14.651707",
     "status": "completed"
    },
    "tags": []
   },
   "source": [
    "# This Dataset is highly unblanced\n",
    "> 0 Normal Transaction\n",
    "> \n",
    "> 1 Fraudulent Transaction"
   ]
  },
  {
   "cell_type": "code",
   "execution_count": 8,
   "id": "d1bac581",
   "metadata": {
    "execution": {
     "iopub.execute_input": "2024-10-23T18:50:14.677315Z",
     "iopub.status.busy": "2024-10-23T18:50:14.676233Z",
     "iopub.status.idle": "2024-10-23T18:50:14.724341Z",
     "shell.execute_reply": "2024-10-23T18:50:14.723228Z"
    },
    "papermill": {
     "duration": 0.060281,
     "end_time": "2024-10-23T18:50:14.727066",
     "exception": false,
     "start_time": "2024-10-23T18:50:14.666785",
     "status": "completed"
    },
    "tags": []
   },
   "outputs": [],
   "source": [
    "#  separating the data for analysis\n",
    "legit = df[df.Class == 0]\n",
    "fraud = df[df.Class == 1]"
   ]
  },
  {
   "cell_type": "code",
   "execution_count": 9,
   "id": "79c2e513",
   "metadata": {
    "execution": {
     "iopub.execute_input": "2024-10-23T18:50:14.744402Z",
     "iopub.status.busy": "2024-10-23T18:50:14.743511Z",
     "iopub.status.idle": "2024-10-23T18:50:14.749424Z",
     "shell.execute_reply": "2024-10-23T18:50:14.748345Z"
    },
    "papermill": {
     "duration": 0.016652,
     "end_time": "2024-10-23T18:50:14.751342",
     "exception": false,
     "start_time": "2024-10-23T18:50:14.734690",
     "status": "completed"
    },
    "tags": []
   },
   "outputs": [
    {
     "name": "stdout",
     "output_type": "stream",
     "text": [
      "legit: (284315, 31)\n",
      "fraud : (492, 31)\n"
     ]
    }
   ],
   "source": [
    "print(f\"legit: {legit.shape}\")\n",
    "print(f\"fraud : {fraud.shape}\")"
   ]
  },
  {
   "cell_type": "code",
   "execution_count": 10,
   "id": "1a86409f",
   "metadata": {
    "execution": {
     "iopub.execute_input": "2024-10-23T18:50:14.768775Z",
     "iopub.status.busy": "2024-10-23T18:50:14.767739Z",
     "iopub.status.idle": "2024-10-23T18:50:14.792177Z",
     "shell.execute_reply": "2024-10-23T18:50:14.790886Z"
    },
    "papermill": {
     "duration": 0.035608,
     "end_time": "2024-10-23T18:50:14.794618",
     "exception": false,
     "start_time": "2024-10-23T18:50:14.759010",
     "status": "completed"
    },
    "tags": []
   },
   "outputs": [
    {
     "data": {
      "text/plain": [
       "count    284315.000000\n",
       "mean         88.291022\n",
       "std         250.105092\n",
       "min           0.000000\n",
       "25%           5.650000\n",
       "50%          22.000000\n",
       "75%          77.050000\n",
       "max       25691.160000\n",
       "Name: Amount, dtype: float64"
      ]
     },
     "execution_count": 10,
     "metadata": {},
     "output_type": "execute_result"
    }
   ],
   "source": [
    "legit.Amount.describe()"
   ]
  },
  {
   "cell_type": "code",
   "execution_count": 11,
   "id": "a368532a",
   "metadata": {
    "execution": {
     "iopub.execute_input": "2024-10-23T18:50:14.816056Z",
     "iopub.status.busy": "2024-10-23T18:50:14.815561Z",
     "iopub.status.idle": "2024-10-23T18:50:14.828905Z",
     "shell.execute_reply": "2024-10-23T18:50:14.827737Z"
    },
    "papermill": {
     "duration": 0.027578,
     "end_time": "2024-10-23T18:50:14.831462",
     "exception": false,
     "start_time": "2024-10-23T18:50:14.803884",
     "status": "completed"
    },
    "tags": []
   },
   "outputs": [
    {
     "data": {
      "text/plain": [
       "count     492.000000\n",
       "mean      122.211321\n",
       "std       256.683288\n",
       "min         0.000000\n",
       "25%         1.000000\n",
       "50%         9.250000\n",
       "75%       105.890000\n",
       "max      2125.870000\n",
       "Name: Amount, dtype: float64"
      ]
     },
     "execution_count": 11,
     "metadata": {},
     "output_type": "execute_result"
    }
   ],
   "source": [
    "fraud.Amount.describe()"
   ]
  },
  {
   "cell_type": "code",
   "execution_count": 12,
   "id": "e8d10541",
   "metadata": {
    "execution": {
     "iopub.execute_input": "2024-10-23T18:50:14.856479Z",
     "iopub.status.busy": "2024-10-23T18:50:14.855826Z",
     "iopub.status.idle": "2024-10-23T18:50:15.006734Z",
     "shell.execute_reply": "2024-10-23T18:50:15.005473Z"
    },
    "papermill": {
     "duration": 0.167268,
     "end_time": "2024-10-23T18:50:15.009227",
     "exception": false,
     "start_time": "2024-10-23T18:50:14.841959",
     "status": "completed"
    },
    "tags": []
   },
   "outputs": [
    {
     "data": {
      "text/html": [
       "<div>\n",
       "<style scoped>\n",
       "    .dataframe tbody tr th:only-of-type {\n",
       "        vertical-align: middle;\n",
       "    }\n",
       "\n",
       "    .dataframe tbody tr th {\n",
       "        vertical-align: top;\n",
       "    }\n",
       "\n",
       "    .dataframe thead th {\n",
       "        text-align: right;\n",
       "    }\n",
       "</style>\n",
       "<table border=\"1\" class=\"dataframe\">\n",
       "  <thead>\n",
       "    <tr style=\"text-align: right;\">\n",
       "      <th></th>\n",
       "      <th>Time</th>\n",
       "      <th>V1</th>\n",
       "      <th>V2</th>\n",
       "      <th>V3</th>\n",
       "      <th>V4</th>\n",
       "      <th>V5</th>\n",
       "      <th>V6</th>\n",
       "      <th>V7</th>\n",
       "      <th>V8</th>\n",
       "      <th>V9</th>\n",
       "      <th>...</th>\n",
       "      <th>V20</th>\n",
       "      <th>V21</th>\n",
       "      <th>V22</th>\n",
       "      <th>V23</th>\n",
       "      <th>V24</th>\n",
       "      <th>V25</th>\n",
       "      <th>V26</th>\n",
       "      <th>V27</th>\n",
       "      <th>V28</th>\n",
       "      <th>Amount</th>\n",
       "    </tr>\n",
       "    <tr>\n",
       "      <th>Class</th>\n",
       "      <th></th>\n",
       "      <th></th>\n",
       "      <th></th>\n",
       "      <th></th>\n",
       "      <th></th>\n",
       "      <th></th>\n",
       "      <th></th>\n",
       "      <th></th>\n",
       "      <th></th>\n",
       "      <th></th>\n",
       "      <th></th>\n",
       "      <th></th>\n",
       "      <th></th>\n",
       "      <th></th>\n",
       "      <th></th>\n",
       "      <th></th>\n",
       "      <th></th>\n",
       "      <th></th>\n",
       "      <th></th>\n",
       "      <th></th>\n",
       "      <th></th>\n",
       "    </tr>\n",
       "  </thead>\n",
       "  <tbody>\n",
       "    <tr>\n",
       "      <th>0</th>\n",
       "      <td>94838.202258</td>\n",
       "      <td>0.008258</td>\n",
       "      <td>-0.006271</td>\n",
       "      <td>0.012171</td>\n",
       "      <td>-0.007860</td>\n",
       "      <td>0.005453</td>\n",
       "      <td>0.002419</td>\n",
       "      <td>0.009637</td>\n",
       "      <td>-0.000987</td>\n",
       "      <td>0.004467</td>\n",
       "      <td>...</td>\n",
       "      <td>-0.000644</td>\n",
       "      <td>-0.001235</td>\n",
       "      <td>-0.000024</td>\n",
       "      <td>0.000070</td>\n",
       "      <td>0.000182</td>\n",
       "      <td>-0.000072</td>\n",
       "      <td>-0.000089</td>\n",
       "      <td>-0.000295</td>\n",
       "      <td>-0.000131</td>\n",
       "      <td>88.291022</td>\n",
       "    </tr>\n",
       "    <tr>\n",
       "      <th>1</th>\n",
       "      <td>80746.806911</td>\n",
       "      <td>-4.771948</td>\n",
       "      <td>3.623778</td>\n",
       "      <td>-7.033281</td>\n",
       "      <td>4.542029</td>\n",
       "      <td>-3.151225</td>\n",
       "      <td>-1.397737</td>\n",
       "      <td>-5.568731</td>\n",
       "      <td>0.570636</td>\n",
       "      <td>-2.581123</td>\n",
       "      <td>...</td>\n",
       "      <td>0.372319</td>\n",
       "      <td>0.713588</td>\n",
       "      <td>0.014049</td>\n",
       "      <td>-0.040308</td>\n",
       "      <td>-0.105130</td>\n",
       "      <td>0.041449</td>\n",
       "      <td>0.051648</td>\n",
       "      <td>0.170575</td>\n",
       "      <td>0.075667</td>\n",
       "      <td>122.211321</td>\n",
       "    </tr>\n",
       "  </tbody>\n",
       "</table>\n",
       "<p>2 rows × 30 columns</p>\n",
       "</div>"
      ],
      "text/plain": [
       "               Time        V1        V2        V3        V4        V5  \\\n",
       "Class                                                                   \n",
       "0      94838.202258  0.008258 -0.006271  0.012171 -0.007860  0.005453   \n",
       "1      80746.806911 -4.771948  3.623778 -7.033281  4.542029 -3.151225   \n",
       "\n",
       "             V6        V7        V8        V9  ...       V20       V21  \\\n",
       "Class                                          ...                       \n",
       "0      0.002419  0.009637 -0.000987  0.004467  ... -0.000644 -0.001235   \n",
       "1     -1.397737 -5.568731  0.570636 -2.581123  ...  0.372319  0.713588   \n",
       "\n",
       "            V22       V23       V24       V25       V26       V27       V28  \\\n",
       "Class                                                                         \n",
       "0     -0.000024  0.000070  0.000182 -0.000072 -0.000089 -0.000295 -0.000131   \n",
       "1      0.014049 -0.040308 -0.105130  0.041449  0.051648  0.170575  0.075667   \n",
       "\n",
       "           Amount  \n",
       "Class              \n",
       "0       88.291022  \n",
       "1      122.211321  \n",
       "\n",
       "[2 rows x 30 columns]"
      ]
     },
     "execution_count": 12,
     "metadata": {},
     "output_type": "execute_result"
    }
   ],
   "source": [
    "#  compare the values for both transactions\n",
    "df.groupby(\"Class\").mean()"
   ]
  },
  {
   "cell_type": "markdown",
   "id": "dcf04d71",
   "metadata": {
    "papermill": {
     "duration": 0.007795,
     "end_time": "2024-10-23T18:50:15.025405",
     "exception": false,
     "start_time": "2024-10-23T18:50:15.017610",
     "status": "completed"
    },
    "tags": []
   },
   "source": [
    "# Under-Sampling\n",
    "> Build a sample dataset contaning similar distribution of normal transactions and fraudulent transaction\n",
    ">\n",
    "> Number of fraudulent transaction --> 492"
   ]
  },
  {
   "cell_type": "code",
   "execution_count": 13,
   "id": "da093644",
   "metadata": {
    "execution": {
     "iopub.execute_input": "2024-10-23T18:50:15.043329Z",
     "iopub.status.busy": "2024-10-23T18:50:15.042895Z",
     "iopub.status.idle": "2024-10-23T18:50:15.058173Z",
     "shell.execute_reply": "2024-10-23T18:50:15.056892Z"
    },
    "papermill": {
     "duration": 0.02722,
     "end_time": "2024-10-23T18:50:15.060703",
     "exception": false,
     "start_time": "2024-10-23T18:50:15.033483",
     "status": "completed"
    },
    "tags": []
   },
   "outputs": [],
   "source": [
    "legit_sample = legit.sample(n=492)\n"
   ]
  },
  {
   "cell_type": "markdown",
   "id": "f9b66d4d",
   "metadata": {
    "papermill": {
     "duration": 0.007812,
     "end_time": "2024-10-23T18:50:15.076658",
     "exception": false,
     "start_time": "2024-10-23T18:50:15.068846",
     "status": "completed"
    },
    "tags": []
   },
   "source": [
    "# Concatenating two DataFrames"
   ]
  },
  {
   "cell_type": "code",
   "execution_count": 14,
   "id": "56ca815b",
   "metadata": {
    "execution": {
     "iopub.execute_input": "2024-10-23T18:50:15.095979Z",
     "iopub.status.busy": "2024-10-23T18:50:15.094770Z",
     "iopub.status.idle": "2024-10-23T18:50:15.101693Z",
     "shell.execute_reply": "2024-10-23T18:50:15.100237Z"
    },
    "papermill": {
     "duration": 0.018776,
     "end_time": "2024-10-23T18:50:15.104205",
     "exception": false,
     "start_time": "2024-10-23T18:50:15.085429",
     "status": "completed"
    },
    "tags": []
   },
   "outputs": [],
   "source": [
    "new_df = pd.concat([legit_sample,fraud],axis = 0)"
   ]
  },
  {
   "cell_type": "code",
   "execution_count": 15,
   "id": "f264cf18",
   "metadata": {
    "execution": {
     "iopub.execute_input": "2024-10-23T18:50:15.122251Z",
     "iopub.status.busy": "2024-10-23T18:50:15.121842Z",
     "iopub.status.idle": "2024-10-23T18:50:15.146426Z",
     "shell.execute_reply": "2024-10-23T18:50:15.145136Z"
    },
    "papermill": {
     "duration": 0.036219,
     "end_time": "2024-10-23T18:50:15.148560",
     "exception": false,
     "start_time": "2024-10-23T18:50:15.112341",
     "status": "completed"
    },
    "tags": []
   },
   "outputs": [
    {
     "data": {
      "text/html": [
       "<div>\n",
       "<style scoped>\n",
       "    .dataframe tbody tr th:only-of-type {\n",
       "        vertical-align: middle;\n",
       "    }\n",
       "\n",
       "    .dataframe tbody tr th {\n",
       "        vertical-align: top;\n",
       "    }\n",
       "\n",
       "    .dataframe thead th {\n",
       "        text-align: right;\n",
       "    }\n",
       "</style>\n",
       "<table border=\"1\" class=\"dataframe\">\n",
       "  <thead>\n",
       "    <tr style=\"text-align: right;\">\n",
       "      <th></th>\n",
       "      <th>Time</th>\n",
       "      <th>V1</th>\n",
       "      <th>V2</th>\n",
       "      <th>V3</th>\n",
       "      <th>V4</th>\n",
       "      <th>V5</th>\n",
       "      <th>V6</th>\n",
       "      <th>V7</th>\n",
       "      <th>V8</th>\n",
       "      <th>V9</th>\n",
       "      <th>...</th>\n",
       "      <th>V21</th>\n",
       "      <th>V22</th>\n",
       "      <th>V23</th>\n",
       "      <th>V24</th>\n",
       "      <th>V25</th>\n",
       "      <th>V26</th>\n",
       "      <th>V27</th>\n",
       "      <th>V28</th>\n",
       "      <th>Amount</th>\n",
       "      <th>Class</th>\n",
       "    </tr>\n",
       "  </thead>\n",
       "  <tbody>\n",
       "    <tr>\n",
       "      <th>13592</th>\n",
       "      <td>24082.0</td>\n",
       "      <td>1.177230</td>\n",
       "      <td>0.286301</td>\n",
       "      <td>0.580984</td>\n",
       "      <td>1.187375</td>\n",
       "      <td>-0.030786</td>\n",
       "      <td>0.096215</td>\n",
       "      <td>-0.246151</td>\n",
       "      <td>-0.062573</td>\n",
       "      <td>1.109161</td>\n",
       "      <td>...</td>\n",
       "      <td>0.050030</td>\n",
       "      <td>0.413526</td>\n",
       "      <td>-0.243069</td>\n",
       "      <td>-0.365703</td>\n",
       "      <td>0.682781</td>\n",
       "      <td>-0.241169</td>\n",
       "      <td>0.005467</td>\n",
       "      <td>0.010236</td>\n",
       "      <td>28.60</td>\n",
       "      <td>0</td>\n",
       "    </tr>\n",
       "    <tr>\n",
       "      <th>16293</th>\n",
       "      <td>27689.0</td>\n",
       "      <td>-1.422165</td>\n",
       "      <td>-2.345573</td>\n",
       "      <td>1.196292</td>\n",
       "      <td>-1.913168</td>\n",
       "      <td>-2.085976</td>\n",
       "      <td>1.331667</td>\n",
       "      <td>-1.670137</td>\n",
       "      <td>-2.303759</td>\n",
       "      <td>-2.386059</td>\n",
       "      <td>...</td>\n",
       "      <td>-1.003447</td>\n",
       "      <td>0.106746</td>\n",
       "      <td>-0.567702</td>\n",
       "      <td>-0.312186</td>\n",
       "      <td>0.731350</td>\n",
       "      <td>-0.225358</td>\n",
       "      <td>-0.048078</td>\n",
       "      <td>0.259902</td>\n",
       "      <td>582.83</td>\n",
       "      <td>0</td>\n",
       "    </tr>\n",
       "    <tr>\n",
       "      <th>128181</th>\n",
       "      <td>78629.0</td>\n",
       "      <td>-1.077360</td>\n",
       "      <td>1.830702</td>\n",
       "      <td>-1.091829</td>\n",
       "      <td>0.278026</td>\n",
       "      <td>0.892418</td>\n",
       "      <td>0.600352</td>\n",
       "      <td>0.275664</td>\n",
       "      <td>0.603063</td>\n",
       "      <td>-0.541548</td>\n",
       "      <td>...</td>\n",
       "      <td>0.240922</td>\n",
       "      <td>0.530407</td>\n",
       "      <td>-0.115962</td>\n",
       "      <td>-1.721270</td>\n",
       "      <td>-0.697445</td>\n",
       "      <td>-0.386695</td>\n",
       "      <td>-0.606574</td>\n",
       "      <td>-0.082943</td>\n",
       "      <td>1.82</td>\n",
       "      <td>0</td>\n",
       "    </tr>\n",
       "    <tr>\n",
       "      <th>169222</th>\n",
       "      <td>119585.0</td>\n",
       "      <td>0.230922</td>\n",
       "      <td>0.348067</td>\n",
       "      <td>-2.287813</td>\n",
       "      <td>-2.541520</td>\n",
       "      <td>1.227267</td>\n",
       "      <td>-1.154868</td>\n",
       "      <td>1.385420</td>\n",
       "      <td>-0.432008</td>\n",
       "      <td>-1.267676</td>\n",
       "      <td>...</td>\n",
       "      <td>0.614003</td>\n",
       "      <td>1.990893</td>\n",
       "      <td>-0.226582</td>\n",
       "      <td>-1.023329</td>\n",
       "      <td>-0.839892</td>\n",
       "      <td>-0.076643</td>\n",
       "      <td>0.623667</td>\n",
       "      <td>0.421587</td>\n",
       "      <td>48.00</td>\n",
       "      <td>0</td>\n",
       "    </tr>\n",
       "    <tr>\n",
       "      <th>184564</th>\n",
       "      <td>126294.0</td>\n",
       "      <td>-2.555019</td>\n",
       "      <td>2.319889</td>\n",
       "      <td>-0.818573</td>\n",
       "      <td>-2.074352</td>\n",
       "      <td>-0.671371</td>\n",
       "      <td>-1.192544</td>\n",
       "      <td>-0.228153</td>\n",
       "      <td>0.844432</td>\n",
       "      <td>1.498431</td>\n",
       "      <td>...</td>\n",
       "      <td>-0.350774</td>\n",
       "      <td>-0.821526</td>\n",
       "      <td>0.279524</td>\n",
       "      <td>-0.273275</td>\n",
       "      <td>-0.426421</td>\n",
       "      <td>0.668304</td>\n",
       "      <td>0.327673</td>\n",
       "      <td>0.413476</td>\n",
       "      <td>4.00</td>\n",
       "      <td>0</td>\n",
       "    </tr>\n",
       "  </tbody>\n",
       "</table>\n",
       "<p>5 rows × 31 columns</p>\n",
       "</div>"
      ],
      "text/plain": [
       "            Time        V1        V2        V3        V4        V5        V6  \\\n",
       "13592    24082.0  1.177230  0.286301  0.580984  1.187375 -0.030786  0.096215   \n",
       "16293    27689.0 -1.422165 -2.345573  1.196292 -1.913168 -2.085976  1.331667   \n",
       "128181   78629.0 -1.077360  1.830702 -1.091829  0.278026  0.892418  0.600352   \n",
       "169222  119585.0  0.230922  0.348067 -2.287813 -2.541520  1.227267 -1.154868   \n",
       "184564  126294.0 -2.555019  2.319889 -0.818573 -2.074352 -0.671371 -1.192544   \n",
       "\n",
       "              V7        V8        V9  ...       V21       V22       V23  \\\n",
       "13592  -0.246151 -0.062573  1.109161  ...  0.050030  0.413526 -0.243069   \n",
       "16293  -1.670137 -2.303759 -2.386059  ... -1.003447  0.106746 -0.567702   \n",
       "128181  0.275664  0.603063 -0.541548  ...  0.240922  0.530407 -0.115962   \n",
       "169222  1.385420 -0.432008 -1.267676  ...  0.614003  1.990893 -0.226582   \n",
       "184564 -0.228153  0.844432  1.498431  ... -0.350774 -0.821526  0.279524   \n",
       "\n",
       "             V24       V25       V26       V27       V28  Amount  Class  \n",
       "13592  -0.365703  0.682781 -0.241169  0.005467  0.010236   28.60      0  \n",
       "16293  -0.312186  0.731350 -0.225358 -0.048078  0.259902  582.83      0  \n",
       "128181 -1.721270 -0.697445 -0.386695 -0.606574 -0.082943    1.82      0  \n",
       "169222 -1.023329 -0.839892 -0.076643  0.623667  0.421587   48.00      0  \n",
       "184564 -0.273275 -0.426421  0.668304  0.327673  0.413476    4.00      0  \n",
       "\n",
       "[5 rows x 31 columns]"
      ]
     },
     "execution_count": 15,
     "metadata": {},
     "output_type": "execute_result"
    }
   ],
   "source": [
    "new_df.head(5)"
   ]
  },
  {
   "cell_type": "code",
   "execution_count": 16,
   "id": "2944cfe5",
   "metadata": {
    "execution": {
     "iopub.execute_input": "2024-10-23T18:50:15.167036Z",
     "iopub.status.busy": "2024-10-23T18:50:15.166628Z",
     "iopub.status.idle": "2024-10-23T18:50:15.175246Z",
     "shell.execute_reply": "2024-10-23T18:50:15.173867Z"
    },
    "papermill": {
     "duration": 0.02084,
     "end_time": "2024-10-23T18:50:15.177887",
     "exception": false,
     "start_time": "2024-10-23T18:50:15.157047",
     "status": "completed"
    },
    "tags": []
   },
   "outputs": [
    {
     "data": {
      "text/plain": [
       "Class\n",
       "0    492\n",
       "1    492\n",
       "Name: count, dtype: int64"
      ]
     },
     "execution_count": 16,
     "metadata": {},
     "output_type": "execute_result"
    }
   ],
   "source": [
    "new_df[\"Class\"].value_counts()"
   ]
  },
  {
   "cell_type": "code",
   "execution_count": 17,
   "id": "d9554617",
   "metadata": {
    "execution": {
     "iopub.execute_input": "2024-10-23T18:50:15.205900Z",
     "iopub.status.busy": "2024-10-23T18:50:15.204727Z",
     "iopub.status.idle": "2024-10-23T18:50:15.231317Z",
     "shell.execute_reply": "2024-10-23T18:50:15.230108Z"
    },
    "papermill": {
     "duration": 0.043784,
     "end_time": "2024-10-23T18:50:15.233772",
     "exception": false,
     "start_time": "2024-10-23T18:50:15.189988",
     "status": "completed"
    },
    "tags": []
   },
   "outputs": [
    {
     "data": {
      "text/html": [
       "<div>\n",
       "<style scoped>\n",
       "    .dataframe tbody tr th:only-of-type {\n",
       "        vertical-align: middle;\n",
       "    }\n",
       "\n",
       "    .dataframe tbody tr th {\n",
       "        vertical-align: top;\n",
       "    }\n",
       "\n",
       "    .dataframe thead th {\n",
       "        text-align: right;\n",
       "    }\n",
       "</style>\n",
       "<table border=\"1\" class=\"dataframe\">\n",
       "  <thead>\n",
       "    <tr style=\"text-align: right;\">\n",
       "      <th></th>\n",
       "      <th>Time</th>\n",
       "      <th>V1</th>\n",
       "      <th>V2</th>\n",
       "      <th>V3</th>\n",
       "      <th>V4</th>\n",
       "      <th>V5</th>\n",
       "      <th>V6</th>\n",
       "      <th>V7</th>\n",
       "      <th>V8</th>\n",
       "      <th>V9</th>\n",
       "      <th>...</th>\n",
       "      <th>V20</th>\n",
       "      <th>V21</th>\n",
       "      <th>V22</th>\n",
       "      <th>V23</th>\n",
       "      <th>V24</th>\n",
       "      <th>V25</th>\n",
       "      <th>V26</th>\n",
       "      <th>V27</th>\n",
       "      <th>V28</th>\n",
       "      <th>Amount</th>\n",
       "    </tr>\n",
       "    <tr>\n",
       "      <th>Class</th>\n",
       "      <th></th>\n",
       "      <th></th>\n",
       "      <th></th>\n",
       "      <th></th>\n",
       "      <th></th>\n",
       "      <th></th>\n",
       "      <th></th>\n",
       "      <th></th>\n",
       "      <th></th>\n",
       "      <th></th>\n",
       "      <th></th>\n",
       "      <th></th>\n",
       "      <th></th>\n",
       "      <th></th>\n",
       "      <th></th>\n",
       "      <th></th>\n",
       "      <th></th>\n",
       "      <th></th>\n",
       "      <th></th>\n",
       "      <th></th>\n",
       "      <th></th>\n",
       "    </tr>\n",
       "  </thead>\n",
       "  <tbody>\n",
       "    <tr>\n",
       "      <th>0</th>\n",
       "      <td>96659.607724</td>\n",
       "      <td>0.158809</td>\n",
       "      <td>0.096316</td>\n",
       "      <td>-0.017011</td>\n",
       "      <td>-0.037890</td>\n",
       "      <td>0.024943</td>\n",
       "      <td>-0.101076</td>\n",
       "      <td>0.001583</td>\n",
       "      <td>-0.063757</td>\n",
       "      <td>0.080800</td>\n",
       "      <td>...</td>\n",
       "      <td>0.017957</td>\n",
       "      <td>0.015333</td>\n",
       "      <td>-0.034831</td>\n",
       "      <td>0.040109</td>\n",
       "      <td>-0.015301</td>\n",
       "      <td>-0.019694</td>\n",
       "      <td>0.005113</td>\n",
       "      <td>0.002105</td>\n",
       "      <td>-0.001721</td>\n",
       "      <td>71.148720</td>\n",
       "    </tr>\n",
       "    <tr>\n",
       "      <th>1</th>\n",
       "      <td>80746.806911</td>\n",
       "      <td>-4.771948</td>\n",
       "      <td>3.623778</td>\n",
       "      <td>-7.033281</td>\n",
       "      <td>4.542029</td>\n",
       "      <td>-3.151225</td>\n",
       "      <td>-1.397737</td>\n",
       "      <td>-5.568731</td>\n",
       "      <td>0.570636</td>\n",
       "      <td>-2.581123</td>\n",
       "      <td>...</td>\n",
       "      <td>0.372319</td>\n",
       "      <td>0.713588</td>\n",
       "      <td>0.014049</td>\n",
       "      <td>-0.040308</td>\n",
       "      <td>-0.105130</td>\n",
       "      <td>0.041449</td>\n",
       "      <td>0.051648</td>\n",
       "      <td>0.170575</td>\n",
       "      <td>0.075667</td>\n",
       "      <td>122.211321</td>\n",
       "    </tr>\n",
       "  </tbody>\n",
       "</table>\n",
       "<p>2 rows × 30 columns</p>\n",
       "</div>"
      ],
      "text/plain": [
       "               Time        V1        V2        V3        V4        V5  \\\n",
       "Class                                                                   \n",
       "0      96659.607724  0.158809  0.096316 -0.017011 -0.037890  0.024943   \n",
       "1      80746.806911 -4.771948  3.623778 -7.033281  4.542029 -3.151225   \n",
       "\n",
       "             V6        V7        V8        V9  ...       V20       V21  \\\n",
       "Class                                          ...                       \n",
       "0     -0.101076  0.001583 -0.063757  0.080800  ...  0.017957  0.015333   \n",
       "1     -1.397737 -5.568731  0.570636 -2.581123  ...  0.372319  0.713588   \n",
       "\n",
       "            V22       V23       V24       V25       V26       V27       V28  \\\n",
       "Class                                                                         \n",
       "0     -0.034831  0.040109 -0.015301 -0.019694  0.005113  0.002105 -0.001721   \n",
       "1      0.014049 -0.040308 -0.105130  0.041449  0.051648  0.170575  0.075667   \n",
       "\n",
       "           Amount  \n",
       "Class              \n",
       "0       71.148720  \n",
       "1      122.211321  \n",
       "\n",
       "[2 rows x 30 columns]"
      ]
     },
     "execution_count": 17,
     "metadata": {},
     "output_type": "execute_result"
    }
   ],
   "source": [
    "new_df.groupby(\"Class\").mean()"
   ]
  },
  {
   "cell_type": "code",
   "execution_count": 18,
   "id": "55edd7af",
   "metadata": {
    "execution": {
     "iopub.execute_input": "2024-10-23T18:50:15.254055Z",
     "iopub.status.busy": "2024-10-23T18:50:15.253116Z",
     "iopub.status.idle": "2024-10-23T18:50:15.260999Z",
     "shell.execute_reply": "2024-10-23T18:50:15.258871Z"
    },
    "papermill": {
     "duration": 0.021464,
     "end_time": "2024-10-23T18:50:15.264200",
     "exception": false,
     "start_time": "2024-10-23T18:50:15.242736",
     "status": "completed"
    },
    "tags": []
   },
   "outputs": [],
   "source": [
    "x = new_df.drop(columns=[\"Class\"], axis = 1)\n",
    "y = new_df[\"Class\"]"
   ]
  },
  {
   "cell_type": "markdown",
   "id": "9ab89a6d",
   "metadata": {
    "papermill": {
     "duration": 0.008441,
     "end_time": "2024-10-23T18:50:15.281799",
     "exception": false,
     "start_time": "2024-10-23T18:50:15.273358",
     "status": "completed"
    },
    "tags": []
   },
   "source": [
    "# Split the data into training data & testing data"
   ]
  },
  {
   "cell_type": "code",
   "execution_count": 19,
   "id": "40a85088",
   "metadata": {
    "execution": {
     "iopub.execute_input": "2024-10-23T18:50:15.301046Z",
     "iopub.status.busy": "2024-10-23T18:50:15.300648Z",
     "iopub.status.idle": "2024-10-23T18:50:15.309509Z",
     "shell.execute_reply": "2024-10-23T18:50:15.308610Z"
    },
    "papermill": {
     "duration": 0.021133,
     "end_time": "2024-10-23T18:50:15.311879",
     "exception": false,
     "start_time": "2024-10-23T18:50:15.290746",
     "status": "completed"
    },
    "tags": []
   },
   "outputs": [],
   "source": [
    "x_train,x_test,y_train,y_test = train_test_split(x,y,test_size = 0.2, stratify = y, random_state = 42)"
   ]
  },
  {
   "cell_type": "code",
   "execution_count": 20,
   "id": "d8c74b0e",
   "metadata": {
    "execution": {
     "iopub.execute_input": "2024-10-23T18:50:15.331470Z",
     "iopub.status.busy": "2024-10-23T18:50:15.330570Z",
     "iopub.status.idle": "2024-10-23T18:50:15.337196Z",
     "shell.execute_reply": "2024-10-23T18:50:15.336189Z"
    },
    "papermill": {
     "duration": 0.018751,
     "end_time": "2024-10-23T18:50:15.339421",
     "exception": false,
     "start_time": "2024-10-23T18:50:15.320670",
     "status": "completed"
    },
    "tags": []
   },
   "outputs": [
    {
     "data": {
      "text/plain": [
       "(787, 30)"
      ]
     },
     "execution_count": 20,
     "metadata": {},
     "output_type": "execute_result"
    }
   ],
   "source": [
    "x_train.shape"
   ]
  },
  {
   "cell_type": "markdown",
   "id": "8b856e35",
   "metadata": {
    "papermill": {
     "duration": 0.009143,
     "end_time": "2024-10-23T18:50:15.358034",
     "exception": false,
     "start_time": "2024-10-23T18:50:15.348891",
     "status": "completed"
    },
    "tags": []
   },
   "source": [
    "# Model Training"
   ]
  },
  {
   "cell_type": "code",
   "execution_count": 21,
   "id": "0b4b07f7",
   "metadata": {
    "execution": {
     "iopub.execute_input": "2024-10-23T18:50:15.378098Z",
     "iopub.status.busy": "2024-10-23T18:50:15.377255Z",
     "iopub.status.idle": "2024-10-23T18:50:15.417393Z",
     "shell.execute_reply": "2024-10-23T18:50:15.416230Z"
    },
    "papermill": {
     "duration": 0.053096,
     "end_time": "2024-10-23T18:50:15.420251",
     "exception": false,
     "start_time": "2024-10-23T18:50:15.367155",
     "status": "completed"
    },
    "tags": []
   },
   "outputs": [
    {
     "data": {
      "text/html": [
       "<style>#sk-container-id-1 {color: black;background-color: white;}#sk-container-id-1 pre{padding: 0;}#sk-container-id-1 div.sk-toggleable {background-color: white;}#sk-container-id-1 label.sk-toggleable__label {cursor: pointer;display: block;width: 100%;margin-bottom: 0;padding: 0.3em;box-sizing: border-box;text-align: center;}#sk-container-id-1 label.sk-toggleable__label-arrow:before {content: \"▸\";float: left;margin-right: 0.25em;color: #696969;}#sk-container-id-1 label.sk-toggleable__label-arrow:hover:before {color: black;}#sk-container-id-1 div.sk-estimator:hover label.sk-toggleable__label-arrow:before {color: black;}#sk-container-id-1 div.sk-toggleable__content {max-height: 0;max-width: 0;overflow: hidden;text-align: left;background-color: #f0f8ff;}#sk-container-id-1 div.sk-toggleable__content pre {margin: 0.2em;color: black;border-radius: 0.25em;background-color: #f0f8ff;}#sk-container-id-1 input.sk-toggleable__control:checked~div.sk-toggleable__content {max-height: 200px;max-width: 100%;overflow: auto;}#sk-container-id-1 input.sk-toggleable__control:checked~label.sk-toggleable__label-arrow:before {content: \"▾\";}#sk-container-id-1 div.sk-estimator input.sk-toggleable__control:checked~label.sk-toggleable__label {background-color: #d4ebff;}#sk-container-id-1 div.sk-label input.sk-toggleable__control:checked~label.sk-toggleable__label {background-color: #d4ebff;}#sk-container-id-1 input.sk-hidden--visually {border: 0;clip: rect(1px 1px 1px 1px);clip: rect(1px, 1px, 1px, 1px);height: 1px;margin: -1px;overflow: hidden;padding: 0;position: absolute;width: 1px;}#sk-container-id-1 div.sk-estimator {font-family: monospace;background-color: #f0f8ff;border: 1px dotted black;border-radius: 0.25em;box-sizing: border-box;margin-bottom: 0.5em;}#sk-container-id-1 div.sk-estimator:hover {background-color: #d4ebff;}#sk-container-id-1 div.sk-parallel-item::after {content: \"\";width: 100%;border-bottom: 1px solid gray;flex-grow: 1;}#sk-container-id-1 div.sk-label:hover label.sk-toggleable__label {background-color: #d4ebff;}#sk-container-id-1 div.sk-serial::before {content: \"\";position: absolute;border-left: 1px solid gray;box-sizing: border-box;top: 0;bottom: 0;left: 50%;z-index: 0;}#sk-container-id-1 div.sk-serial {display: flex;flex-direction: column;align-items: center;background-color: white;padding-right: 0.2em;padding-left: 0.2em;position: relative;}#sk-container-id-1 div.sk-item {position: relative;z-index: 1;}#sk-container-id-1 div.sk-parallel {display: flex;align-items: stretch;justify-content: center;background-color: white;position: relative;}#sk-container-id-1 div.sk-item::before, #sk-container-id-1 div.sk-parallel-item::before {content: \"\";position: absolute;border-left: 1px solid gray;box-sizing: border-box;top: 0;bottom: 0;left: 50%;z-index: -1;}#sk-container-id-1 div.sk-parallel-item {display: flex;flex-direction: column;z-index: 1;position: relative;background-color: white;}#sk-container-id-1 div.sk-parallel-item:first-child::after {align-self: flex-end;width: 50%;}#sk-container-id-1 div.sk-parallel-item:last-child::after {align-self: flex-start;width: 50%;}#sk-container-id-1 div.sk-parallel-item:only-child::after {width: 0;}#sk-container-id-1 div.sk-dashed-wrapped {border: 1px dashed gray;margin: 0 0.4em 0.5em 0.4em;box-sizing: border-box;padding-bottom: 0.4em;background-color: white;}#sk-container-id-1 div.sk-label label {font-family: monospace;font-weight: bold;display: inline-block;line-height: 1.2em;}#sk-container-id-1 div.sk-label-container {text-align: center;}#sk-container-id-1 div.sk-container {/* jupyter's `normalize.less` sets `[hidden] { display: none; }` but bootstrap.min.css set `[hidden] { display: none !important; }` so we also need the `!important` here to be able to override the default hidden behavior on the sphinx rendered scikit-learn.org. See: https://github.com/scikit-learn/scikit-learn/issues/21755 */display: inline-block !important;position: relative;}#sk-container-id-1 div.sk-text-repr-fallback {display: none;}</style><div id=\"sk-container-id-1\" class=\"sk-top-container\"><div class=\"sk-text-repr-fallback\"><pre>LogisticRegression()</pre><b>In a Jupyter environment, please rerun this cell to show the HTML representation or trust the notebook. <br />On GitHub, the HTML representation is unable to render, please try loading this page with nbviewer.org.</b></div><div class=\"sk-container\" hidden><div class=\"sk-item\"><div class=\"sk-estimator sk-toggleable\"><input class=\"sk-toggleable__control sk-hidden--visually\" id=\"sk-estimator-id-1\" type=\"checkbox\" checked><label for=\"sk-estimator-id-1\" class=\"sk-toggleable__label sk-toggleable__label-arrow\">LogisticRegression</label><div class=\"sk-toggleable__content\"><pre>LogisticRegression()</pre></div></div></div></div></div>"
      ],
      "text/plain": [
       "LogisticRegression()"
      ]
     },
     "execution_count": 21,
     "metadata": {},
     "output_type": "execute_result"
    }
   ],
   "source": [
    "model = LogisticRegression()\n",
    "model.fit(x_train,y_train)"
   ]
  },
  {
   "cell_type": "code",
   "execution_count": 22,
   "id": "cc2a05bf",
   "metadata": {
    "execution": {
     "iopub.execute_input": "2024-10-23T18:50:15.452537Z",
     "iopub.status.busy": "2024-10-23T18:50:15.451997Z",
     "iopub.status.idle": "2024-10-23T18:50:15.462493Z",
     "shell.execute_reply": "2024-10-23T18:50:15.461370Z"
    },
    "papermill": {
     "duration": 0.02984,
     "end_time": "2024-10-23T18:50:15.465354",
     "exception": false,
     "start_time": "2024-10-23T18:50:15.435514",
     "status": "completed"
    },
    "tags": []
   },
   "outputs": [],
   "source": [
    "#  accuracy on training data\n",
    "y_pred = model.predict(x_train)\n",
    "data_accuracy = accuracy_score(y_pred,y_train)"
   ]
  },
  {
   "cell_type": "code",
   "execution_count": 23,
   "id": "07d54d71",
   "metadata": {
    "execution": {
     "iopub.execute_input": "2024-10-23T18:50:15.497878Z",
     "iopub.status.busy": "2024-10-23T18:50:15.497312Z",
     "iopub.status.idle": "2024-10-23T18:50:15.503726Z",
     "shell.execute_reply": "2024-10-23T18:50:15.502588Z"
    },
    "papermill": {
     "duration": 0.027759,
     "end_time": "2024-10-23T18:50:15.508271",
     "exception": false,
     "start_time": "2024-10-23T18:50:15.480512",
     "status": "completed"
    },
    "tags": []
   },
   "outputs": [
    {
     "name": "stdout",
     "output_type": "stream",
     "text": [
      " Accuracy on training data:> 0.9110546378653113\n"
     ]
    }
   ],
   "source": [
    "print(f\" Accuracy on training data:> {data_accuracy}\")"
   ]
  },
  {
   "cell_type": "code",
   "execution_count": 24,
   "id": "57c20828",
   "metadata": {
    "execution": {
     "iopub.execute_input": "2024-10-23T18:50:15.540585Z",
     "iopub.status.busy": "2024-10-23T18:50:15.540038Z",
     "iopub.status.idle": "2024-10-23T18:50:15.550232Z",
     "shell.execute_reply": "2024-10-23T18:50:15.549080Z"
    },
    "papermill": {
     "duration": 0.029706,
     "end_time": "2024-10-23T18:50:15.552946",
     "exception": false,
     "start_time": "2024-10-23T18:50:15.523240",
     "status": "completed"
    },
    "tags": []
   },
   "outputs": [],
   "source": [
    "#  accuracy on training data\n",
    "y_pred = model.predict(x_test)\n",
    "data_accuracy = accuracy_score(y_pred,y_test)"
   ]
  },
  {
   "cell_type": "code",
   "execution_count": 25,
   "id": "3d06b7e9",
   "metadata": {
    "execution": {
     "iopub.execute_input": "2024-10-23T18:50:15.583501Z",
     "iopub.status.busy": "2024-10-23T18:50:15.583083Z",
     "iopub.status.idle": "2024-10-23T18:50:15.588832Z",
     "shell.execute_reply": "2024-10-23T18:50:15.587626Z"
    },
    "papermill": {
     "duration": 0.023179,
     "end_time": "2024-10-23T18:50:15.591475",
     "exception": false,
     "start_time": "2024-10-23T18:50:15.568296",
     "status": "completed"
    },
    "tags": []
   },
   "outputs": [
    {
     "name": "stdout",
     "output_type": "stream",
     "text": [
      " Accuracy on training data:> 0.9238578680203046\n"
     ]
    }
   ],
   "source": [
    "print(f\" Accuracy on training data:> {data_accuracy}\")"
   ]
  },
  {
   "cell_type": "markdown",
   "id": "e6aef990",
   "metadata": {
    "papermill": {
     "duration": 0.010405,
     "end_time": "2024-10-23T18:50:15.614481",
     "exception": false,
     "start_time": "2024-10-23T18:50:15.604076",
     "status": "completed"
    },
    "tags": []
   },
   "source": [
    "## Thank Youuu :)"
   ]
  }
 ],
 "metadata": {
  "kaggle": {
   "accelerator": "none",
   "dataSources": [
    {
     "datasetId": 310,
     "sourceId": 23498,
     "sourceType": "datasetVersion"
    }
   ],
   "dockerImageVersionId": 30786,
   "isGpuEnabled": false,
   "isInternetEnabled": true,
   "language": "python",
   "sourceType": "notebook"
  },
  "kernelspec": {
   "display_name": "Python 3",
   "language": "python",
   "name": "python3"
  },
  "language_info": {
   "codemirror_mode": {
    "name": "ipython",
    "version": 3
   },
   "file_extension": ".py",
   "mimetype": "text/x-python",
   "name": "python",
   "nbconvert_exporter": "python",
   "pygments_lexer": "ipython3",
   "version": "3.10.14"
  },
  "papermill": {
   "default_parameters": {},
   "duration": 11.119668,
   "end_time": "2024-10-23T18:50:16.248247",
   "environment_variables": {},
   "exception": null,
   "input_path": "__notebook__.ipynb",
   "output_path": "__notebook__.ipynb",
   "parameters": {},
   "start_time": "2024-10-23T18:50:05.128579",
   "version": "2.6.0"
  }
 },
 "nbformat": 4,
 "nbformat_minor": 5
}
